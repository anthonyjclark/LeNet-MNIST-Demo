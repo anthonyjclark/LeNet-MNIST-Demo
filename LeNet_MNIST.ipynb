{
 "cells": [
  {
   "cell_type": "code",
   "execution_count": 1,
   "metadata": {},
   "outputs": [
    {
     "name": "stderr",
     "output_type": "stream",
     "text": [
      "C:\\ProgramData\\Anaconda3\\lib\\site-packages\\h5py\\__init__.py:36: FutureWarning: Conversion of the second argument of issubdtype from `float` to `np.floating` is deprecated. In future, it will be treated as `np.float64 == np.dtype(float).type`.\n",
      "  from ._conv import register_converters as _register_converters\n",
      "Using TensorFlow backend.\n"
     ]
    },
    {
     "name": "stdout",
     "output_type": "stream",
     "text": [
      "['/job:localhost/replica:0/task:0/device:GPU:0']\n",
      "img data fmt:  channels_last\n"
     ]
    }
   ],
   "source": [
    "from keras.models import Sequential, Model, load_model\n",
    "from keras.layers import Dense, Dropout, Flatten, Activation\n",
    "from keras.layers import Conv2D, MaxPooling2D, BatchNormalization\n",
    "from keras.datasets import mnist, cifar10\n",
    "from keras.optimizers import SGD, Adam\n",
    "from keras.regularizers import l2\n",
    "from skimage import transform\n",
    "from skimage import color\n",
    "from IPython.display import display\n",
    "from datetime import datetime\n",
    "import keras.utils\n",
    "import keras.backend as K\n",
    "import numpy as np\n",
    "import pandas as pd\n",
    "import matplotlib.pyplot as plt\n",
    "import matplotlib.patches as mpatches\n",
    "import math\n",
    "import os\n",
    "\n",
    "print(K.tensorflow_backend._get_available_gpus()) # if this is empty, then you don't have a gpu, or keras didn't find it\n",
    "print('img data fmt: ', K.image_data_format()) # are images (RGB, x, y) or (x, y, RGB)?"
   ]
  },
  {
   "cell_type": "markdown",
   "metadata": {},
   "source": [
    "# Data"
   ]
  },
  {
   "cell_type": "code",
   "execution_count": 2,
   "metadata": {},
   "outputs": [
    {
     "name": "stdout",
     "output_type": "stream",
     "text": [
      "X_train.shape =  (48000, 28, 28)  y_train.shape =  (48000, 10)\n",
      "X_val.shape =  (12000, 28, 28)  y_val.shape =  (12000, 10)\n",
      "X_test.shape =  (10000, 28, 28)  y_test.shape =  (10000, 10)\n",
      "data type:  <class 'numpy.float32'>\n",
      "label type:  <class 'numpy.float32'>\n"
     ]
    }
   ],
   "source": [
    "(X_train, y_train), (X_test, y_test) = mnist.load_data()\n",
    "\n",
    "y_train = keras.utils.to_categorical(y_train, 10)\n",
    "y_test = keras.utils.to_categorical(y_test, 10)\n",
    "\n",
    "# convert from uint to floats, and normalize to [0,1]\n",
    "X_train = X_train.astype('float32')\n",
    "X_test = X_test.astype('float32')\n",
    "X_train = X_train / 255\n",
    "X_test = X_test / 255\n",
    "\n",
    "val_split = 0.2\n",
    "val_cutoff = X_train.shape[0] - int(X_train.shape[0] * val_split)\n",
    "X_train, X_val = X_train[:val_cutoff], X_train[val_cutoff:]\n",
    "y_train, y_val = y_train[:val_cutoff], y_train[val_cutoff:]\n",
    "\n",
    "print('X_train.shape = ', X_train.shape, ' y_train.shape = ', y_train.shape)\n",
    "print('X_val.shape = ', X_val.shape, ' y_val.shape = ', y_val.shape)\n",
    "print('X_test.shape = ', X_test.shape, ' y_test.shape = ', y_test.shape)\n",
    "\n",
    "print('data type: ', type(X_train[0][0][0]))\n",
    "print('label type: ', type(y_train[0][0]))\n",
    "\n",
    "#plt.imshow(X_train[0], cmap='Greys')"
   ]
  },
  {
   "cell_type": "markdown",
   "metadata": {},
   "source": [
    "# Model - LeNet-5\n",
    "\n",
    "* [pdf](http://yann.lecun.com/exdb/publis/pdf/lecun-01a.pdf)\n",
    "* [mnist demo](http://yann.lecun.com/exdb/lenet/)"
   ]
  },
  {
   "cell_type": "code",
   "execution_count": 3,
   "metadata": {},
   "outputs": [],
   "source": [
    "def generate_leNet(pool_strides=(2,2), kernel_size=(5,5), lr=0.01):\n",
    "    \n",
    "    leNet = Sequential()\n",
    "    ## C1 ##\n",
    "    leNet.add(Conv2D(6, kernel_size,\n",
    "                     activation='relu',\n",
    "                     input_shape= (28,28,1),\n",
    "                     padding='same'))\n",
    "    leNet.add(MaxPooling2D(pool_size=(2,2)))\n",
    "    ## C3 ##\n",
    "    leNet.add(Conv2D(16, kernel_size, \n",
    "                     activation='relu'))\n",
    "    leNet.add(MaxPooling2D(pool_size=(2,2)))\n",
    "    ## C5 ##\n",
    "    leNet.add(Conv2D(120, kernel_size, \n",
    "                     activation='relu'))\n",
    "    leNet.add(Flatten())\n",
    "    ## F6 ##\n",
    "    leNet.add(Dense(84, activation='relu'))\n",
    "    leNet.add(Dropout(0.5))\n",
    "    ## Out ##\n",
    "    leNet.add(Dense(10, activation='softmax'))\n",
    "\n",
    "    leNet.compile(loss=keras.losses.categorical_crossentropy,\n",
    "                  optimizer=keras.optimizers.Adam(),\n",
    "                  metrics=['accuracy'])\n",
    "    return leNet"
   ]
  },
  {
   "cell_type": "markdown",
   "metadata": {},
   "source": [
    "# Train"
   ]
  },
  {
   "cell_type": "code",
   "execution_count": 4,
   "metadata": {},
   "outputs": [],
   "source": [
    "def train_model(model, X_train, y_train, X_val, y_val,\n",
    "                n_epochs=10, logdir=None, model_name=None):\n",
    "    now = datetime.utcnow().strftime('%Y%m%d%H%M%S')\n",
    "    \n",
    "    if model_name is None:\n",
    "        model_name = 'LeNet-5'\n",
    "    \n",
    "    if logdir is None:\n",
    "        append = False\n",
    "        logdir = \"logs/run-{0}-{1}/\".format(model_name, now)\n",
    "        os.mkdir(logdir)\n",
    "    else:\n",
    "        append = True\n",
    "    print('storing training data in ', logdir)\n",
    "\n",
    "    \n",
    "    # log stats for each epoch in a csv file\n",
    "    csv_logger_cb = keras.callbacks.CSVLogger('{0}{1}.csv'.format(logdir, model_name), \n",
    "                                              separator=',', append=append)\n",
    "    # save the current model weights if it has the best validation accuracy\n",
    "    model_chkpt_cb = keras.callbacks.ModelCheckpoint(logdir + 'weights.ep{epoch:02d}-val_acc{val_acc:.3f}.hdf5', \n",
    "                                                     save_best_only=True, monitor='val_acc', mode='max')\n",
    "\n",
    "    print('Training model ', model_name)\n",
    "    \n",
    "    X_train, X_val = (np.expand_dims(X_train, axis=-1),\n",
    "                      np.expand_dims(X_val, axis=-1))\n",
    "    \n",
    "    hist = model.fit(X_train, y_train, batch_size=64, epochs=n_epochs,\n",
    "                     validation_data=(X_val, y_val), \n",
    "                     callbacks=[csv_logger_cb, model_chkpt_cb])\n",
    "    return hist"
   ]
  },
  {
   "cell_type": "code",
   "execution_count": 5,
   "metadata": {},
   "outputs": [
    {
     "name": "stdout",
     "output_type": "stream",
     "text": [
      "storing training data in  logs/run-LeNet-5-20190525024721/\n",
      "Training model  LeNet-5\n",
      "Train on 48000 samples, validate on 12000 samples\n",
      "Epoch 1/10\n",
      "48000/48000 [==============================] - 5s 105us/step - loss: 0.3721 - acc: 0.8869 - val_loss: 0.0835 - val_acc: 0.9742\n",
      "Epoch 2/10\n",
      "48000/48000 [==============================] - 4s 74us/step - loss: 0.1070 - acc: 0.9701 - val_loss: 0.0602 - val_acc: 0.9832\n",
      "Epoch 3/10\n",
      "48000/48000 [==============================] - 4s 73us/step - loss: 0.0752 - acc: 0.9781 - val_loss: 0.0558 - val_acc: 0.9839\n",
      "Epoch 4/10\n",
      "48000/48000 [==============================] - 4s 74us/step - loss: 0.0596 - acc: 0.9832 - val_loss: 0.0509 - val_acc: 0.9852\n",
      "Epoch 5/10\n",
      "48000/48000 [==============================] - 3s 72us/step - loss: 0.0489 - acc: 0.9859 - val_loss: 0.0506 - val_acc: 0.9869\n",
      "Epoch 6/10\n",
      "48000/48000 [==============================] - 3s 72us/step - loss: 0.0405 - acc: 0.9882 - val_loss: 0.0567 - val_acc: 0.9863\n",
      "Epoch 7/10\n",
      "48000/48000 [==============================] - 3s 71us/step - loss: 0.0369 - acc: 0.9894 - val_loss: 0.0519 - val_acc: 0.9860\n",
      "Epoch 8/10\n",
      "48000/48000 [==============================] - 3s 71us/step - loss: 0.0309 - acc: 0.9908 - val_loss: 0.0605 - val_acc: 0.9861\n",
      "Epoch 9/10\n",
      "48000/48000 [==============================] - 3s 71us/step - loss: 0.0277 - acc: 0.9914 - val_loss: 0.0480 - val_acc: 0.9890\n",
      "Epoch 10/10\n",
      "48000/48000 [==============================] - 3s 71us/step - loss: 0.0236 - acc: 0.9933 - val_loss: 0.0504 - val_acc: 0.9881\n"
     ]
    }
   ],
   "source": [
    "lenet = generate_leNet()\n",
    "train_hist = train_model(lenet, X_train, y_train, X_val, y_val)\n"
   ]
  },
  {
   "cell_type": "code",
   "execution_count": 9,
   "metadata": {},
   "outputs": [
    {
     "name": "stdout",
     "output_type": "stream",
     "text": [
      "_________________________________________________________________\n",
      "Layer (type)                 Output Shape              Param #   \n",
      "=================================================================\n",
      "conv2d_1 (Conv2D)            (None, 28, 28, 6)         156       \n",
      "_________________________________________________________________\n",
      "max_pooling2d_1 (MaxPooling2 (None, 14, 14, 6)         0         \n",
      "_________________________________________________________________\n",
      "conv2d_2 (Conv2D)            (None, 10, 10, 16)        2416      \n",
      "_________________________________________________________________\n",
      "max_pooling2d_2 (MaxPooling2 (None, 5, 5, 16)          0         \n",
      "_________________________________________________________________\n",
      "conv2d_3 (Conv2D)            (None, 1, 1, 120)         48120     \n",
      "_________________________________________________________________\n",
      "flatten_1 (Flatten)          (None, 120)               0         \n",
      "_________________________________________________________________\n",
      "dense_1 (Dense)              (None, 84)                10164     \n",
      "_________________________________________________________________\n",
      "dropout_1 (Dropout)          (None, 84)                0         \n",
      "_________________________________________________________________\n",
      "dense_2 (Dense)              (None, 10)                850       \n",
      "=================================================================\n",
      "Total params: 61,706\n",
      "Trainable params: 61,706\n",
      "Non-trainable params: 0\n",
      "_________________________________________________________________\n"
     ]
    }
   ],
   "source": [
    "lenet.summary()"
   ]
  },
  {
   "cell_type": "code",
   "execution_count": 6,
   "metadata": {},
   "outputs": [
    {
     "name": "stdout",
     "output_type": "stream",
     "text": [
      "10000/10000 [==============================] - 0s 40us/step\n",
      "0.04046410774023907 0.9885\n"
     ]
    }
   ],
   "source": [
    "test_loss, test_acc = lenet.evaluate(np.expand_dims(X_test, axis=-1), y_test)\n",
    "print(test_loss, test_acc)"
   ]
  },
  {
   "cell_type": "markdown",
   "metadata": {},
   "source": [
    "# Save/Load Model"
   ]
  },
  {
   "cell_type": "code",
   "execution_count": 7,
   "metadata": {},
   "outputs": [
    {
     "name": "stderr",
     "output_type": "stream",
     "text": [
      "C:\\ProgramData\\Anaconda3\\lib\\site-packages\\matplotlib\\cbook\\deprecation.py:107: MatplotlibDeprecationWarning: Passing one of 'on', 'true', 'off', 'false' as a boolean is deprecated; use an actual boolean (True/False) instead.\n",
      "  warnings.warn(message, mplDeprecation, stacklevel=1)\n"
     ]
    },
    {
     "data": {
      "image/png": "[encoded data removed]",
      "text/plain": [
       "<Figure size 720x360 with 2 Axes>"
      ]
     },
     "metadata": {},
     "output_type": "display_data"
    }
   ],
   "source": [
    "fig = plt.figure(figsize=(10,5))\n",
    "ax1 = fig.add_axes([0.0, 0.0, 0.5, 1.0])\n",
    "ax1.plot(train_hist.history['val_acc'])\n",
    "ax1.plot(train_hist.history['acc'], 'g--')\n",
    "ax1.scatter([9], [test_acc], c='cyan', marker='*')\n",
    "ax1.legend(['Validation Accuracy', 'Training Accuracy', 'Test Accuracy'])\n",
    "ax1.set_title('Accuracy')\n",
    "ax1.set_xticks(range(10))\n",
    "ax1.set_xlabel('Training Epoch')\n",
    "ax1.set_ylabel('% of Samples Correctly Classified')\n",
    "ax1.grid('on')\n",
    "\n",
    "ax2 = fig.add_axes([0.52, 0.0, 0.48, 1.0])\n",
    "ax2.plot(train_hist.history['val_loss'], 'r')\n",
    "ax2.plot(train_hist.history['loss'], 'y--')\n",
    "ax2.scatter([9], [test_loss], c='magenta', marker='*')\n",
    "ax2.legend(['Validation Loss', 'Training Loss', 'Test Loss'])\n",
    "ax2.set_title('Cross-Entropy Loss')\n",
    "ax2.yaxis.set_ticks_position('right')\n",
    "ax2.set_xticks(range(10))\n",
    "ax2.set_xlabel('Training Epoch')\n",
    "ax2.yaxis.set_label_position('right')\n",
    "ax2.set_ylabel('Categorical Cross Entropy')\n",
    "ax2.grid('on')\n",
    "\n",
    "fig.savefig('leNet_training.png', dpi=150, bbox_inches='tight')"
   ]
  },
  {
   "cell_type": "code",
   "execution_count": 8,
   "metadata": {},
   "outputs": [],
   "source": [
    "lenet.save('lenet-5_10ep.h5')"
   ]
  },
  {
   "cell_type": "code",
   "execution_count": 3,
   "metadata": {},
   "outputs": [],
   "source": [
    "lenet = load_model('lenet-5_10ep.h5')"
   ]
  },
  {
   "cell_type": "code",
   "execution_count": 4,
   "metadata": {},
   "outputs": [
    {
     "name": "stdout",
     "output_type": "stream",
     "text": [
      "_________________________________________________________________\n",
      "Layer (type)                 Output Shape              Param #   \n",
      "=================================================================\n",
      "conv2d_1 (Conv2D)            (None, 28, 28, 6)         156       \n",
      "_________________________________________________________________\n",
      "max_pooling2d_1 (MaxPooling2 (None, 14, 14, 6)         0         \n",
      "_________________________________________________________________\n",
      "conv2d_2 (Conv2D)            (None, 10, 10, 16)        2416      \n",
      "_________________________________________________________________\n",
      "max_pooling2d_2 (MaxPooling2 (None, 5, 5, 16)          0         \n",
      "_________________________________________________________________\n",
      "conv2d_3 (Conv2D)            (None, 1, 1, 120)         48120     \n",
      "_________________________________________________________________\n",
      "flatten_1 (Flatten)          (None, 120)               0         \n",
      "_________________________________________________________________\n",
      "dense_1 (Dense)              (None, 84)                10164     \n",
      "_________________________________________________________________\n",
      "dropout_1 (Dropout)          (None, 84)                0         \n",
      "_________________________________________________________________\n",
      "dense_2 (Dense)              (None, 10)                850       \n",
      "=================================================================\n",
      "Total params: 61,706\n",
      "Trainable params: 61,706\n",
      "Non-trainable params: 0\n",
      "_________________________________________________________________\n"
     ]
    }
   ],
   "source": [
    "lenet.summary()"
   ]
  },
  {
   "cell_type": "code",
   "execution_count": 5,
   "metadata": {},
   "outputs": [],
   "source": [
    "def get_layer_activations(model=None, layer_ind=1, input_img=None, save_img=False):\n",
    "\n",
    "    if model is None:\n",
    "        model = load_model('lenet-5_10ep.h5')\n",
    "    \n",
    "    # LAYER 0 => return input image\n",
    "    if layer_ind == 0:\n",
    "        return X_test[test_ind]\n",
    "    \n",
    "    # LAYERS 1-3 => return feature maps from conv layers\n",
    "    elif layer_ind < 4:\n",
    "        test_img = np.expand_dims(input_img, axis=0)\n",
    "        layer_name = 'conv2d_{}'.format(layer_ind)\n",
    "        layer_model = Model(inputs=model.input,\n",
    "                            outputs=model.get_layer(layer_name).output)\n",
    "        pred = layer_model.predict(np.expand_dims(test_img, axis=-1))\n",
    "        n_filter = pred.shape[-1]  \n",
    "        n_row = int(np.ceil(np.sqrt(n_filter)))\n",
    "        n_col = n_filter // n_row\n",
    "        #print(n_row, n_col)\n",
    "        im_size = pred.shape[1:3]\n",
    "        #print(im_size)\n",
    "        activations_grid = np.empty(shape=(im_size[0] * n_row, \n",
    "                                           im_size[1] * n_col))\n",
    "        #print(activations_grid.shape)\n",
    "        filter_index = 0\n",
    "        for i in range(n_row):\n",
    "            for j in range(n_col):\n",
    "                x = im_size[0] # store the image size for indexing\n",
    "                activations_grid[i*x: (i+1)*x, \n",
    "                                 j*x: (j+1)*x] = pred[0,:,:, filter_index]\n",
    "                filter_index += 1\n",
    "\n",
    "        return activations_grid\n",
    "    \n",
    "    # LAYERS 4 and 5 => return activations from dense layers\n",
    "    elif layer_ind <= 5:\n",
    "        test_img = np.expand_dims(input_img, axis=0)\n",
    "        layer_name = 'dense_{}'.format(layer_ind-3) # 'dense_1 - dense_2 for layers 4,5'\n",
    "        layer_model = Model(inputs=model.input,\n",
    "                            outputs=model.get_layer(layer_name).output)\n",
    "        pred = layer_model.predict(np.expand_dims(test_img, axis=-1))\n",
    "        if layer_ind < 5:\n",
    "            return pred.reshape((6,-1))\n",
    "        else:\n",
    "            return pred"
   ]
  },
  {
   "cell_type": "code",
   "execution_count": 13,
   "metadata": {},
   "outputs": [],
   "source": [
    "def plot_layer_outputs(model, input_img, save_img=False, fname='000.png'):\n",
    "\n",
    "    if model is None:\n",
    "        model = load_model('lenet-5_10ep.h5')\n",
    "    \n",
    "    n_layer = 6\n",
    "     \n",
    "    #test_ind = np.random.randint(X_test.shape[0])\n",
    "    #test_ind = 2\n",
    "    #test_img = X_test[test_ind]\n",
    "    test_img = input_img\n",
    "    \n",
    "    fig = plt.figure(figsize=(20,5))\n",
    "\n",
    "    w = 1/n_layer\n",
    "    im_width = 0.8*w\n",
    "    arr_width = 0.2*w\n",
    "\n",
    "    input_ax = fig.add_axes([0.0,1.0, im_width,1.0])\n",
    "    input_ax.imshow(test_img)\n",
    "    input_ax.axis('off')\n",
    "    input_ax.set_title('Input')\n",
    "    for i in range(1,(n_layer*2)-1):\n",
    "        if i%2 == 0: # even => show activations\n",
    "            left = (i//2)*(im_width + arr_width)\n",
    "            new_ax = fig.add_axes([left,1.0, im_width,1.0])\n",
    "            # CONV LAYERS\n",
    "            if (i//2 < 4):\n",
    "                new_ax.imshow(get_layer_activations(model=model, layer_ind=i//2, input_img=test_img))\n",
    "                new_ax.set_title('Convolutional Layer {}'.format(i//2))\n",
    "                new_ax.axis('off')\n",
    "            # DENSE LAYERS\n",
    "            elif (i//2 < 5):\n",
    "                new_ax.matshow(get_layer_activations(model=model, layer_ind=i//2, input_img=test_img))\n",
    "                new_ax.set_title('Dense Layer {}'.format(i//2 - 3))\n",
    "                new_ax.axis('off')\n",
    "            # OUTPUT LAYER\n",
    "            else:\n",
    "                pred = get_layer_activations(model=model, layer_ind=i//2, input_img=test_img)\n",
    "                new_ax.matshow(pred)\n",
    "                new_ax.set_title('Output Layer')\n",
    "                new_ax.axis('on')\n",
    "                new_ax.set_yticks([])\n",
    "                new_ax.set_ylabel('')\n",
    "                new_ax.set_xticks(range(10))\n",
    "                new_ax.xaxis.set_ticks_position('bottom')\n",
    "                pred_label = np.argmax(pred[0])\n",
    "                #true_label = np.argmax(y_test[test_ind])\n",
    "                new_ax.text(0,4, 'Prediction: ')\n",
    "                confidence = pred[0, pred_label] * 100\n",
    "                fd = {'fontsize' : 48, \n",
    "                      'weight' : 'bold'}\n",
    "                if confidence > 98.0: \n",
    "                    new_ax.text(3,4, '{0}'.format(pred_label), fontdict=fd)\n",
    "                else:\n",
    "                    new_ax.text(3,4, '[?]')\n",
    "                new_ax.text(0,5, 'Confidence: {0:.6f}%'.format(confidence))\n",
    "\n",
    "        else: # odd => show arrow\n",
    "            left = ((i//2)+1) * im_width + (i//2) * arr_width\n",
    "            new_ax = fig.add_axes([left,1.0, arr_width,1.0])\n",
    "            arrow_tail = (0.0, 0.5)\n",
    "            arrow_head = (1.0, 0.5)\n",
    "            arrow = mpatches.FancyArrowPatch(arrow_tail, arrow_head,\n",
    "                                         mutation_scale=40)\n",
    "            new_ax.add_patch(arrow)\n",
    "            new_ax.axis('off')\n",
    "    if save_img:\n",
    "        fig.savefig(fname, \n",
    "                    dpi=150, bbox_inches='tight', facecolor='white')\n",
    "    fig.clf()"
   ]
  },
  {
   "cell_type": "code",
   "execution_count": 14,
   "metadata": {},
   "outputs": [
    {
     "data": {
      "text/plain": [
       "<Figure size 1440x360 with 0 Axes>"
      ]
     },
     "metadata": {},
     "output_type": "display_data"
    }
   ],
   "source": [
    "\n",
    "plot_layer_outputs(lenet, input_img=X_test[2], save_img=True, fname='{:06d}.png'.format(i))"
   ]
  },
  {
   "cell_type": "code",
   "execution_count": 15,
   "metadata": {},
   "outputs": [
    {
     "name": "stderr",
     "output_type": "stream",
     "text": [
      "C:\\ProgramData\\Anaconda3\\lib\\site-packages\\matplotlib\\pyplot.py:537: RuntimeWarning: More than 20 figures have been opened. Figures created through the pyplot interface (`matplotlib.pyplot.figure`) are retained until explicitly closed and may consume too much memory. (To control this warning, see the rcParam `figure.max_open_warning`).\n",
      "  max_open_warning, RuntimeWarning)\n"
     ]
    },
    {
     "name": "stdout",
     "output_type": "stream",
     "text": [
      "created 8 frames\n"
     ]
    },
    {
     "data": {
      "text/plain": [
       "<Figure size 1440x360 with 0 Axes>"
      ]
     },
     "metadata": {},
     "output_type": "display_data"
    },
    {
     "data": {
      "text/plain": [
       "<Figure size 1440x360 with 0 Axes>"
      ]
     },
     "metadata": {},
     "output_type": "display_data"
    },
    {
     "data": {
      "text/plain": [
       "<Figure size 1440x360 with 0 Axes>"
      ]
     },
     "metadata": {},
     "output_type": "display_data"
    },
    {
     "data": {
      "text/plain": [
       "<Figure size 1440x360 with 0 Axes>"
      ]
     },
     "metadata": {},
     "output_type": "display_data"
    },
    {
     "data": {
      "text/plain": [
       "<Figure size 1440x360 with 0 Axes>"
      ]
     },
     "metadata": {},
     "output_type": "display_data"
    },
    {
     "data": {
      "text/plain": [
       "<Figure size 1440x360 with 0 Axes>"
      ]
     },
     "metadata": {},
     "output_type": "display_data"
    },
    {
     "data": {
      "text/plain": [
       "<Figure size 1440x360 with 0 Axes>"
      ]
     },
     "metadata": {},
     "output_type": "display_data"
    },
    {
     "data": {
      "text/plain": [
       "<Figure size 1440x360 with 0 Axes>"
      ]
     },
     "metadata": {},
     "output_type": "display_data"
    },
    {
     "data": {
      "text/plain": [
       "<Figure size 1440x360 with 0 Axes>"
      ]
     },
     "metadata": {},
     "output_type": "display_data"
    },
    {
     "data": {
      "text/plain": [
       "<Figure size 1440x360 with 0 Axes>"
      ]
     },
     "metadata": {},
     "output_type": "display_data"
    },
    {
     "data": {
      "text/plain": [
       "<Figure size 1440x360 with 0 Axes>"
      ]
     },
     "metadata": {},
     "output_type": "display_data"
    },
    {
     "data": {
      "text/plain": [
       "<Figure size 1440x360 with 0 Axes>"
      ]
     },
     "metadata": {},
     "output_type": "display_data"
    },
    {
     "data": {
      "text/plain": [
       "<Figure size 1440x360 with 0 Axes>"
      ]
     },
     "metadata": {},
     "output_type": "display_data"
    },
    {
     "data": {
      "text/plain": [
       "<Figure size 1440x360 with 0 Axes>"
      ]
     },
     "metadata": {},
     "output_type": "display_data"
    },
    {
     "data": {
      "text/plain": [
       "<Figure size 1440x360 with 0 Axes>"
      ]
     },
     "metadata": {},
     "output_type": "display_data"
    },
    {
     "data": {
      "text/plain": [
       "<Figure size 1440x360 with 0 Axes>"
      ]
     },
     "metadata": {},
     "output_type": "display_data"
    },
    {
     "data": {
      "text/plain": [
       "<Figure size 1440x360 with 0 Axes>"
      ]
     },
     "metadata": {},
     "output_type": "display_data"
    },
    {
     "data": {
      "text/plain": [
       "<Figure size 1440x360 with 0 Axes>"
      ]
     },
     "metadata": {},
     "output_type": "display_data"
    },
    {
     "data": {
      "text/plain": [
       "<Figure size 1440x360 with 0 Axes>"
      ]
     },
     "metadata": {},
     "output_type": "display_data"
    },
    {
     "data": {
      "text/plain": [
       "<Figure size 1440x360 with 0 Axes>"
      ]
     },
     "metadata": {},
     "output_type": "display_data"
    },
    {
     "data": {
      "text/plain": [
       "<Figure size 1440x360 with 0 Axes>"
      ]
     },
     "metadata": {},
     "output_type": "display_data"
    },
    {
     "data": {
      "text/plain": [
       "<Figure size 1440x360 with 0 Axes>"
      ]
     },
     "metadata": {},
     "output_type": "display_data"
    },
    {
     "data": {
      "text/plain": [
       "<Figure size 1440x360 with 0 Axes>"
      ]
     },
     "metadata": {},
     "output_type": "display_data"
    },
    {
     "data": {
      "text/plain": [
       "<Figure size 1440x360 with 0 Axes>"
      ]
     },
     "metadata": {},
     "output_type": "display_data"
    },
    {
     "data": {
      "text/plain": [
       "<Figure size 1440x360 with 0 Axes>"
      ]
     },
     "metadata": {},
     "output_type": "display_data"
    },
    {
     "data": {
      "text/plain": [
       "<Figure size 1440x360 with 0 Axes>"
      ]
     },
     "metadata": {},
     "output_type": "display_data"
    },
    {
     "data": {
      "text/plain": [
       "<Figure size 1440x360 with 0 Axes>"
      ]
     },
     "metadata": {},
     "output_type": "display_data"
    },
    {
     "data": {
      "text/plain": [
       "<Figure size 1440x360 with 0 Axes>"
      ]
     },
     "metadata": {},
     "output_type": "display_data"
    },
    {
     "data": {
      "text/plain": [
       "<Figure size 1440x360 with 0 Axes>"
      ]
     },
     "metadata": {},
     "output_type": "display_data"
    },
    {
     "data": {
      "text/plain": [
       "<Figure size 1440x360 with 0 Axes>"
      ]
     },
     "metadata": {},
     "output_type": "display_data"
    },
    {
     "data": {
      "text/plain": [
       "<Figure size 1440x360 with 0 Axes>"
      ]
     },
     "metadata": {},
     "output_type": "display_data"
    },
    {
     "data": {
      "text/plain": [
       "<Figure size 1440x360 with 0 Axes>"
      ]
     },
     "metadata": {},
     "output_type": "display_data"
    },
    {
     "data": {
      "text/plain": [
       "<Figure size 1440x360 with 0 Axes>"
      ]
     },
     "metadata": {},
     "output_type": "display_data"
    },
    {
     "data": {
      "text/plain": [
       "<Figure size 1440x360 with 0 Axes>"
      ]
     },
     "metadata": {},
     "output_type": "display_data"
    },
    {
     "data": {
      "text/plain": [
       "<Figure size 1440x360 with 0 Axes>"
      ]
     },
     "metadata": {},
     "output_type": "display_data"
    },
    {
     "data": {
      "text/plain": [
       "<Figure size 1440x360 with 0 Axes>"
      ]
     },
     "metadata": {},
     "output_type": "display_data"
    },
    {
     "data": {
      "text/plain": [
       "<Figure size 1440x360 with 0 Axes>"
      ]
     },
     "metadata": {},
     "output_type": "display_data"
    },
    {
     "data": {
      "text/plain": [
       "<Figure size 1440x360 with 0 Axes>"
      ]
     },
     "metadata": {},
     "output_type": "display_data"
    },
    {
     "data": {
      "text/plain": [
       "<Figure size 1440x360 with 0 Axes>"
      ]
     },
     "metadata": {},
     "output_type": "display_data"
    },
    {
     "data": {
      "text/plain": [
       "<Figure size 1440x360 with 0 Axes>"
      ]
     },
     "metadata": {},
     "output_type": "display_data"
    },
    {
     "data": {
      "text/plain": [
       "<Figure size 1440x360 with 0 Axes>"
      ]
     },
     "metadata": {},
     "output_type": "display_data"
    },
    {
     "data": {
      "text/plain": [
       "<Figure size 1440x360 with 0 Axes>"
      ]
     },
     "metadata": {},
     "output_type": "display_data"
    },
    {
     "data": {
      "text/plain": [
       "<Figure size 1440x360 with 0 Axes>"
      ]
     },
     "metadata": {},
     "output_type": "display_data"
    },
    {
     "data": {
      "text/plain": [
       "<Figure size 1440x360 with 0 Axes>"
      ]
     },
     "metadata": {},
     "output_type": "display_data"
    },
    {
     "data": {
      "text/plain": [
       "<Figure size 1440x360 with 0 Axes>"
      ]
     },
     "metadata": {},
     "output_type": "display_data"
    },
    {
     "data": {
      "text/plain": [
       "<Figure size 1440x360 with 0 Axes>"
      ]
     },
     "metadata": {},
     "output_type": "display_data"
    },
    {
     "data": {
      "text/plain": [
       "<Figure size 1440x360 with 0 Axes>"
      ]
     },
     "metadata": {},
     "output_type": "display_data"
    },
    {
     "data": {
      "text/plain": [
       "<Figure size 1440x360 with 0 Axes>"
      ]
     },
     "metadata": {},
     "output_type": "display_data"
    },
    {
     "data": {
      "text/plain": [
       "<Figure size 1440x360 with 0 Axes>"
      ]
     },
     "metadata": {},
     "output_type": "display_data"
    },
    {
     "data": {
      "text/plain": [
       "<Figure size 1440x360 with 0 Axes>"
      ]
     },
     "metadata": {},
     "output_type": "display_data"
    },
    {
     "data": {
      "text/plain": [
       "<Figure size 1440x360 with 0 Axes>"
      ]
     },
     "metadata": {},
     "output_type": "display_data"
    },
    {
     "data": {
      "text/plain": [
       "<Figure size 1440x360 with 0 Axes>"
      ]
     },
     "metadata": {},
     "output_type": "display_data"
    },
    {
     "data": {
      "text/plain": [
       "<Figure size 1440x360 with 0 Axes>"
      ]
     },
     "metadata": {},
     "output_type": "display_data"
    },
    {
     "data": {
      "text/plain": [
       "<Figure size 1440x360 with 0 Axes>"
      ]
     },
     "metadata": {},
     "output_type": "display_data"
    },
    {
     "data": {
      "text/plain": [
       "<Figure size 1440x360 with 0 Axes>"
      ]
     },
     "metadata": {},
     "output_type": "display_data"
    },
    {
     "data": {
      "text/plain": [
       "<Figure size 1440x360 with 0 Axes>"
      ]
     },
     "metadata": {},
     "output_type": "display_data"
    },
    {
     "data": {
      "text/plain": [
       "<Figure size 1440x360 with 0 Axes>"
      ]
     },
     "metadata": {},
     "output_type": "display_data"
    },
    {
     "data": {
      "text/plain": [
       "<Figure size 1440x360 with 0 Axes>"
      ]
     },
     "metadata": {},
     "output_type": "display_data"
    },
    {
     "data": {
      "text/plain": [
       "<Figure size 1440x360 with 0 Axes>"
      ]
     },
     "metadata": {},
     "output_type": "display_data"
    },
    {
     "data": {
      "text/plain": [
       "<Figure size 1440x360 with 0 Axes>"
      ]
     },
     "metadata": {},
     "output_type": "display_data"
    },
    {
     "data": {
      "text/plain": [
       "<Figure size 1440x360 with 0 Axes>"
      ]
     },
     "metadata": {},
     "output_type": "display_data"
    },
    {
     "data": {
      "text/plain": [
       "<Figure size 1440x360 with 0 Axes>"
      ]
     },
     "metadata": {},
     "output_type": "display_data"
    },
    {
     "data": {
      "text/plain": [
       "<Figure size 1440x360 with 0 Axes>"
      ]
     },
     "metadata": {},
     "output_type": "display_data"
    },
    {
     "data": {
      "text/plain": [
       "<Figure size 1440x360 with 0 Axes>"
      ]
     },
     "metadata": {},
     "output_type": "display_data"
    },
    {
     "data": {
      "text/plain": [
       "<Figure size 1440x360 with 0 Axes>"
      ]
     },
     "metadata": {},
     "output_type": "display_data"
    },
    {
     "data": {
      "text/plain": [
       "<Figure size 1440x360 with 0 Axes>"
      ]
     },
     "metadata": {},
     "output_type": "display_data"
    },
    {
     "data": {
      "text/plain": [
       "<Figure size 1440x360 with 0 Axes>"
      ]
     },
     "metadata": {},
     "output_type": "display_data"
    },
    {
     "data": {
      "text/plain": [
       "<Figure size 1440x360 with 0 Axes>"
      ]
     },
     "metadata": {},
     "output_type": "display_data"
    },
    {
     "data": {
      "text/plain": [
       "<Figure size 1440x360 with 0 Axes>"
      ]
     },
     "metadata": {},
     "output_type": "display_data"
    },
    {
     "data": {
      "text/plain": [
       "<Figure size 1440x360 with 0 Axes>"
      ]
     },
     "metadata": {},
     "output_type": "display_data"
    },
    {
     "data": {
      "text/plain": [
       "<Figure size 1440x360 with 0 Axes>"
      ]
     },
     "metadata": {},
     "output_type": "display_data"
    },
    {
     "data": {
      "text/plain": [
       "<Figure size 1440x360 with 0 Axes>"
      ]
     },
     "metadata": {},
     "output_type": "display_data"
    },
    {
     "data": {
      "text/plain": [
       "<Figure size 1440x360 with 0 Axes>"
      ]
     },
     "metadata": {},
     "output_type": "display_data"
    },
    {
     "data": {
      "text/plain": [
       "<Figure size 1440x360 with 0 Axes>"
      ]
     },
     "metadata": {},
     "output_type": "display_data"
    },
    {
     "data": {
      "text/plain": [
       "<Figure size 1440x360 with 0 Axes>"
      ]
     },
     "metadata": {},
     "output_type": "display_data"
    },
    {
     "data": {
      "text/plain": [
       "<Figure size 1440x360 with 0 Axes>"
      ]
     },
     "metadata": {},
     "output_type": "display_data"
    },
    {
     "data": {
      "text/plain": [
       "<Figure size 1440x360 with 0 Axes>"
      ]
     },
     "metadata": {},
     "output_type": "display_data"
    },
    {
     "data": {
      "text/plain": [
       "<Figure size 1440x360 with 0 Axes>"
      ]
     },
     "metadata": {},
     "output_type": "display_data"
    },
    {
     "data": {
      "text/plain": [
       "<Figure size 1440x360 with 0 Axes>"
      ]
     },
     "metadata": {},
     "output_type": "display_data"
    },
    {
     "data": {
      "text/plain": [
       "<Figure size 1440x360 with 0 Axes>"
      ]
     },
     "metadata": {},
     "output_type": "display_data"
    },
    {
     "data": {
      "text/plain": [
       "<Figure size 1440x360 with 0 Axes>"
      ]
     },
     "metadata": {},
     "output_type": "display_data"
    },
    {
     "data": {
      "text/plain": [
       "<Figure size 1440x360 with 0 Axes>"
      ]
     },
     "metadata": {},
     "output_type": "display_data"
    },
    {
     "data": {
      "text/plain": [
       "<Figure size 1440x360 with 0 Axes>"
      ]
     },
     "metadata": {},
     "output_type": "display_data"
    },
    {
     "data": {
      "text/plain": [
       "<Figure size 1440x360 with 0 Axes>"
      ]
     },
     "metadata": {},
     "output_type": "display_data"
    },
    {
     "data": {
      "text/plain": [
       "<Figure size 1440x360 with 0 Axes>"
      ]
     },
     "metadata": {},
     "output_type": "display_data"
    },
    {
     "data": {
      "text/plain": [
       "<Figure size 1440x360 with 0 Axes>"
      ]
     },
     "metadata": {},
     "output_type": "display_data"
    },
    {
     "data": {
      "text/plain": [
       "<Figure size 1440x360 with 0 Axes>"
      ]
     },
     "metadata": {},
     "output_type": "display_data"
    },
    {
     "data": {
      "text/plain": [
       "<Figure size 1440x360 with 0 Axes>"
      ]
     },
     "metadata": {},
     "output_type": "display_data"
    },
    {
     "data": {
      "text/plain": [
       "<Figure size 1440x360 with 0 Axes>"
      ]
     },
     "metadata": {},
     "output_type": "display_data"
    },
    {
     "data": {
      "text/plain": [
       "<Figure size 1440x360 with 0 Axes>"
      ]
     },
     "metadata": {},
     "output_type": "display_data"
    },
    {
     "data": {
      "text/plain": [
       "<Figure size 1440x360 with 0 Axes>"
      ]
     },
     "metadata": {},
     "output_type": "display_data"
    },
    {
     "data": {
      "text/plain": [
       "<Figure size 1440x360 with 0 Axes>"
      ]
     },
     "metadata": {},
     "output_type": "display_data"
    },
    {
     "data": {
      "text/plain": [
       "<Figure size 1440x360 with 0 Axes>"
      ]
     },
     "metadata": {},
     "output_type": "display_data"
    },
    {
     "data": {
      "text/plain": [
       "<Figure size 1440x360 with 0 Axes>"
      ]
     },
     "metadata": {},
     "output_type": "display_data"
    },
    {
     "data": {
      "text/plain": [
       "<Figure size 1440x360 with 0 Axes>"
      ]
     },
     "metadata": {},
     "output_type": "display_data"
    },
    {
     "data": {
      "text/plain": [
       "<Figure size 1440x360 with 0 Axes>"
      ]
     },
     "metadata": {},
     "output_type": "display_data"
    },
    {
     "data": {
      "text/plain": [
       "<Figure size 1440x360 with 0 Axes>"
      ]
     },
     "metadata": {},
     "output_type": "display_data"
    },
    {
     "data": {
      "text/plain": [
       "<Figure size 1440x360 with 0 Axes>"
      ]
     },
     "metadata": {},
     "output_type": "display_data"
    },
    {
     "data": {
      "text/plain": [
       "<Figure size 1440x360 with 0 Axes>"
      ]
     },
     "metadata": {},
     "output_type": "display_data"
    },
    {
     "data": {
      "text/plain": [
       "<Figure size 1440x360 with 0 Axes>"
      ]
     },
     "metadata": {},
     "output_type": "display_data"
    },
    {
     "data": {
      "text/plain": [
       "<Figure size 1440x360 with 0 Axes>"
      ]
     },
     "metadata": {},
     "output_type": "display_data"
    },
    {
     "data": {
      "text/plain": [
       "<Figure size 1440x360 with 0 Axes>"
      ]
     },
     "metadata": {},
     "output_type": "display_data"
    },
    {
     "data": {
      "text/plain": [
       "<Figure size 1440x360 with 0 Axes>"
      ]
     },
     "metadata": {},
     "output_type": "display_data"
    },
    {
     "data": {
      "text/plain": [
       "<Figure size 1440x360 with 0 Axes>"
      ]
     },
     "metadata": {},
     "output_type": "display_data"
    },
    {
     "data": {
      "text/plain": [
       "<Figure size 1440x360 with 0 Axes>"
      ]
     },
     "metadata": {},
     "output_type": "display_data"
    },
    {
     "data": {
      "text/plain": [
       "<Figure size 1440x360 with 0 Axes>"
      ]
     },
     "metadata": {},
     "output_type": "display_data"
    },
    {
     "data": {
      "text/plain": [
       "<Figure size 1440x360 with 0 Axes>"
      ]
     },
     "metadata": {},
     "output_type": "display_data"
    },
    {
     "data": {
      "text/plain": [
       "<Figure size 1440x360 with 0 Axes>"
      ]
     },
     "metadata": {},
     "output_type": "display_data"
    },
    {
     "data": {
      "text/plain": [
       "<Figure size 1440x360 with 0 Axes>"
      ]
     },
     "metadata": {},
     "output_type": "display_data"
    },
    {
     "data": {
      "text/plain": [
       "<Figure size 1440x360 with 0 Axes>"
      ]
     },
     "metadata": {},
     "output_type": "display_data"
    },
    {
     "data": {
      "text/plain": [
       "<Figure size 1440x360 with 0 Axes>"
      ]
     },
     "metadata": {},
     "output_type": "display_data"
    },
    {
     "data": {
      "text/plain": [
       "<Figure size 1440x360 with 0 Axes>"
      ]
     },
     "metadata": {},
     "output_type": "display_data"
    },
    {
     "data": {
      "text/plain": [
       "<Figure size 1440x360 with 0 Axes>"
      ]
     },
     "metadata": {},
     "output_type": "display_data"
    },
    {
     "data": {
      "text/plain": [
       "<Figure size 1440x360 with 0 Axes>"
      ]
     },
     "metadata": {},
     "output_type": "display_data"
    },
    {
     "data": {
      "text/plain": [
       "<Figure size 1440x360 with 0 Axes>"
      ]
     },
     "metadata": {},
     "output_type": "display_data"
    },
    {
     "data": {
      "text/plain": [
       "<Figure size 1440x360 with 0 Axes>"
      ]
     },
     "metadata": {},
     "output_type": "display_data"
    },
    {
     "data": {
      "text/plain": [
       "<Figure size 1440x360 with 0 Axes>"
      ]
     },
     "metadata": {},
     "output_type": "display_data"
    },
    {
     "data": {
      "text/plain": [
       "<Figure size 1440x360 with 0 Axes>"
      ]
     },
     "metadata": {},
     "output_type": "display_data"
    },
    {
     "data": {
      "text/plain": [
       "<Figure size 1440x360 with 0 Axes>"
      ]
     },
     "metadata": {},
     "output_type": "display_data"
    },
    {
     "data": {
      "text/plain": [
       "<Figure size 1440x360 with 0 Axes>"
      ]
     },
     "metadata": {},
     "output_type": "display_data"
    },
    {
     "data": {
      "text/plain": [
       "<Figure size 1440x360 with 0 Axes>"
      ]
     },
     "metadata": {},
     "output_type": "display_data"
    },
    {
     "data": {
      "text/plain": [
       "<Figure size 1440x360 with 0 Axes>"
      ]
     },
     "metadata": {},
     "output_type": "display_data"
    },
    {
     "data": {
      "text/plain": [
       "<Figure size 1440x360 with 0 Axes>"
      ]
     },
     "metadata": {},
     "output_type": "display_data"
    },
    {
     "data": {
      "text/plain": [
       "<Figure size 1440x360 with 0 Axes>"
      ]
     },
     "metadata": {},
     "output_type": "display_data"
    },
    {
     "data": {
      "text/plain": [
       "<Figure size 1440x360 with 0 Axes>"
      ]
     },
     "metadata": {},
     "output_type": "display_data"
    },
    {
     "data": {
      "text/plain": [
       "<Figure size 1440x360 with 0 Axes>"
      ]
     },
     "metadata": {},
     "output_type": "display_data"
    }
   ],
   "source": [
    "#####################################################\n",
    "###  WARNING: THIS CELL HAS A LONG ASS  RUNTIME  ####\n",
    "#####################################################\n",
    "## break out of the second for-loop early to debug ##\n",
    "#####################################################\n",
    "\n",
    "\n",
    "\n",
    "im_size = (28,28)\n",
    "n_test_img = 10\n",
    "# a vertical 'tape' of n_test_img images from the test set\n",
    "tape = np.empty(shape=(im_size[0] * n_test_img,\n",
    "                       im_size[0]))\n",
    "for i in range(n_test_img-1):\n",
    "    tape[i*28 : (i+1)*28, :] = X_test[i]\n",
    "# last sample on tape is same as first => infinite loop\n",
    "tape[(n_test_img - 1)*28 : (n_test_img)*28, :] = X_test[0]\n",
    "\n",
    "    \n",
    "\n",
    "for t in range(0, tape.shape[0]-28, 2):\n",
    "    tape_head = tape[t : t+28, :]\n",
    "    plot_layer_outputs(lenet, input_img=tape_head, \n",
    "                       save_img=True, fname='frames\\\\{:03d}.png'.format(t))\n",
    "    \n",
    "print('created {} frames'.format(i))"
   ]
  },
  {
   "cell_type": "code",
   "execution_count": null,
   "metadata": {},
   "outputs": [],
   "source": []
  }
 ],
 "metadata": {
  "kernelspec": {
   "display_name": "Python 3",
   "language": "python",
   "name": "python3"
  },
  "language_info": {
   "codemirror_mode": {
    "name": "ipython",
    "version": 3
   },
   "file_extension": ".py",
   "mimetype": "text/x-python",
   "name": "python",
   "nbconvert_exporter": "python",
   "pygments_lexer": "ipython3",
   "version": "3.6.5"
  }
 },
 "nbformat": 4,
 "nbformat_minor": 2
}
